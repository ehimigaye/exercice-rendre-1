{
 "cells": [
  {
   "cell_type": "code",
   "execution_count": null,
   "id": "5a69a445",
   "metadata": {},
   "outputs": [],
   "source": [
    "# Question 1 :\n",
    "prenom= str(input())\n",
    "nom = str(input())\n",
    "print (nom ,\"\" ,prenom)"
   ]
  },
  {
   "cell_type": "code",
   "execution_count": null,
   "id": "710a759a",
   "metadata": {},
   "outputs": [],
   "source": [
    "#Question 2 :\n",
    "x = str(input())\n",
    "a = x+x\n",
    "b = x+x+x\n",
    "a1 = int(a)\n",
    "a2 = int(b)\n",
    "print (a1+a2+ int(x))"
   ]
  },
  {
   "cell_type": "code",
   "execution_count": null,
   "id": "1248cea2",
   "metadata": {},
   "outputs": [],
   "source": [
    "#Question 4 :\n",
    "x = range(2000,3200)\n",
    "for n in x :\n",
    "    if n % 7 ==0 and n%5 != 0:\n",
    "        print (n, end=\" \")"
   ]
  },
  {
   "cell_type": "code",
   "execution_count": null,
   "id": "3aa6e865",
   "metadata": {},
   "outputs": [],
   "source": [
    "#Question 5 :\n",
    "#deux conditions 0! = 1 et n! = n* n-1....\n",
    "      \n",
    "n =int(input())\n",
    "if n == 0:\n",
    "    print (\"1\")\n",
    "# retournons le probleme n! = 1* (1+1)* (1+1+1)...*n\n",
    "else:\n",
    "    I = 1\n",
    "    for i in range(1,n+1):\n",
    "        I = I * i\n",
    "        print(I)"
   ]
  },
  {
   "cell_type": "code",
   "execution_count": null,
   "id": "bb5c437c",
   "metadata": {},
   "outputs": [],
   "source": [
    "# Question 6 :\n",
    "string = str(input())\n",
    "print(len(string))\n",
    "x = len(string)\n",
    "for i in range(0, x, 2):\n",
    "    print(string[i],end=\"\")\n"
   ]
  },
  {
   "cell_type": "code",
   "execution_count": null,
   "id": "7e4aa3a6",
   "metadata": {},
   "outputs": [],
   "source": [
    "#Question 3 :\n",
    "x = int(input())\n",
    "if x%2 == 0 :\n",
    "    print(\"pair\")\n",
    "else :\n",
    "    print(\"impair\")"
   ]
  },
  {
   "cell_type": "code",
   "execution_count": null,
   "id": "fb173557",
   "metadata": {},
   "outputs": [],
   "source": [
    "# Question 7 :\n",
    "prix = int(input())\n",
    "if prix >= 500:\n",
    "    print (\" Vous beneficiez d' une remise de 50%, le prix est:\", prix *0.5)\n",
    "elif prix >= 200 and prix < 500:\n",
    "    print (\" Vous beneficiez d' une remise de 30%, le prix est:\", prix *0.7)\n",
    "else : \n",
    "    print (\" Vous beneficiez d' une remise de 10%, le prix est:\", prix *0.9)\n",
    "    \n",
    "    "
   ]
  },
  {
   "cell_type": "code",
   "execution_count": null,
   "id": "cb91b5b6",
   "metadata": {},
   "outputs": [],
   "source": []
  }
 ],
 "metadata": {
  "kernelspec": {
   "display_name": "Python 3 (ipykernel)",
   "language": "python",
   "name": "python3"
  },
  "language_info": {
   "codemirror_mode": {
    "name": "ipython",
    "version": 3
   },
   "file_extension": ".py",
   "mimetype": "text/x-python",
   "name": "python",
   "nbconvert_exporter": "python",
   "pygments_lexer": "ipython3",
   "version": "3.9.13"
  }
 },
 "nbformat": 4,
 "nbformat_minor": 5
}
